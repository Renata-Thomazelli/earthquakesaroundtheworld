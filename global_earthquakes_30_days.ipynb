{
  "nbformat": 4,
  "nbformat_minor": 0,
  "metadata": {
    "colab": {
      "name": "global_earthquakes_30_days.ipynb",
      "provenance": [],
      "authorship_tag": "ABX9TyPvrDSndzPcvArG9zOyXp1J",
      "include_colab_link": true
    },
    "kernelspec": {
      "name": "python3",
      "display_name": "Python 3"
    },
    "language_info": {
      "name": "python"
    }
  },
  "cells": [
    {
      "cell_type": "markdown",
      "metadata": {
        "id": "view-in-github",
        "colab_type": "text"
      },
      "source": [
        "<a href=\"https://colab.research.google.com/github/Renata-Thomazelli/earthquakesaroundtheworld/blob/main/global_earthquakes_30_days.ipynb\" target=\"_parent\"><img src=\"https://colab.research.google.com/assets/colab-badge.svg\" alt=\"Open In Colab\"/></a>"
      ]
    },
    {
      "cell_type": "code",
      "metadata": {
        "colab": {
          "base_uri": "https://localhost:8080/"
        },
        "id": "r1bWNS0d90jv",
        "outputId": "12c1d0ad-151f-4e99-9ef0-cf3b356953f7"
      },
      "source": [
        "from google.colab import drive\n",
        "drive.mount('/content/drive')"
      ],
      "execution_count": 1,
      "outputs": [
        {
          "output_type": "stream",
          "text": [
            "Mounted at /content/drive\n"
          ],
          "name": "stdout"
        }
      ]
    },
    {
      "cell_type": "code",
      "metadata": {
        "id": "A2WRbO4_A-UU"
      },
      "source": [
        "import sys\n",
        "sys.path.insert(0,'/content/drive/MyDrive/ColabNotebooks/Earthquake')"
      ],
      "execution_count": 2,
      "outputs": []
    },
    {
      "cell_type": "code",
      "metadata": {
        "colab": {
          "base_uri": "https://localhost:8080/",
          "height": 35
        },
        "id": "KkwEhn9e4Mfs",
        "outputId": "12e47613-5088-4763-aa31-ec017ec18ab4"
      },
      "source": [
        "import json\n",
        "\n",
        "from plotly.graph_objs import Scattergeo, Layout\n",
        "from plotly import offline\n",
        "\n",
        "\n",
        "# Explore the structure of the data.\n",
        "filename = '/content/drive/MyDrive/ColabNotebooks/Earthquake/eq_data_30_day_m1.json'\n",
        "with open (filename) as f:\n",
        "    all_eq_data = json.load(f) #stored the entire set of data in all_eq_data\n",
        "    #the json.load() function converts the data into a format Python can work with: in this case a giant dicitionary.\n",
        "\n",
        "all_eq_dicts = all_eq_data['features']\n",
        "#print(len(all_eq_dicts))\n",
        "title=all_eq_data['metadata']['title']\n",
        "mags, lons, lats, hover_texts = [],[],[],[] #Empty list to store the magnitude\n",
        "for eq_dict in all_eq_dicts:   \n",
        "    mags.append(eq_dict['properties']['mag'])\n",
        "    lons.append(eq_dict['geometry']['coordinates'][0])\n",
        "    lats.append(eq_dict['geometry']['coordinates'][1])\n",
        "    hover_texts.append(eq_dict['properties']['title'])\n",
        "    \n",
        "\n",
        "#Map the earthquakes.\n",
        "data= [{'type':'scattergeo',\n",
        "       'lon':lons,\n",
        "       'lat':lats,\n",
        "        'text':hover_texts,\n",
        "        'marker':{'size':[5*mag for mag in mags],\n",
        "        'color':mags,\n",
        "        'colorscale':'Viridis',\n",
        "        'reversescale':True,\n",
        "        'colorbar':{'title':'Magnitude'},\n",
        "        },\n",
        "        }]\n",
        "my_layout = Layout(title = title,title_x=0.5)\n",
        "\n",
        "fig = {'data': data, 'layout':my_layout}\n",
        "offline.plot(fig, filename='global_earthquakes_30_days_updated.html')"
      ],
      "execution_count": 3,
      "outputs": [
        {
          "output_type": "execute_result",
          "data": {
            "application/vnd.google.colaboratory.intrinsic+json": {
              "type": "string"
            },
            "text/plain": [
              "'global_earthquakes_30_days_updated.html'"
            ]
          },
          "metadata": {
            "tags": []
          },
          "execution_count": 3
        }
      ]
    }
  ]
}